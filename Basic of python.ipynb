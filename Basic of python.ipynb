{
 "cells": [
  {
   "cell_type": "markdown",
   "id": "636d0dac-d595-4238-b8ed-2e683f179bd2",
   "metadata": {},
   "source": [
    "### Variables\r\n",
    "Variables are containers for storing data values."
   ]
  },
  {
   "cell_type": "code",
   "execution_count": 14,
   "id": "f6cc0489-9a24-48d1-828b-be0abac6964d",
   "metadata": {},
   "outputs": [
    {
     "name": "stdout",
     "output_type": "stream",
     "text": [
      "Swati\n"
     ]
    }
   ],
   "source": [
    "_Name20=\"Swati\"\n",
    "print(_Name20)"
   ]
  },
  {
   "cell_type": "code",
   "execution_count": 16,
   "id": "e884d6d2-129d-4a62-9350-017532a3fcf3",
   "metadata": {},
   "outputs": [
    {
     "name": "stdout",
     "output_type": "stream",
     "text": [
      "python\n"
     ]
    }
   ],
   "source": [
    "_name20=\"python\"\n",
    "print(_name20)"
   ]
  },
  {
   "cell_type": "code",
   "execution_count": 8,
   "id": "2ddf7c05-53b1-4e85-9ff5-36e5f84d3147",
   "metadata": {},
   "outputs": [
    {
     "name": "stdout",
     "output_type": "stream",
     "text": [
      "5\n"
     ]
    }
   ],
   "source": [
    "x = 5\n",
    "print(x)"
   ]
  },
  {
   "cell_type": "markdown",
   "id": "5a7b1c63-7054-4b85-b47f-d697a2fd3532",
   "metadata": {},
   "source": [
    "### Variables Naming "
   ]
  },
  {
   "cell_type": "code",
   "execution_count": 17,
   "id": "3c729b42-a882-4946-9b89-8110ceef7726",
   "metadata": {},
   "outputs": [
    {
     "name": "stdout",
     "output_type": "stream",
     "text": [
      "Top VarSity\n",
      "Top VarSity\n",
      "Top VarSity\n",
      "Top VarSity\n",
      "Top\n",
      "VarSity\n"
     ]
    }
   ],
   "source": [
    "# 1. A variable name must start with a letter\n",
    "ChannelName=\"Top VarSity\"\n",
    "print(ChannelName)\n",
    "# 2. 1. A variable name must start with a underscore \n",
    "_ChannelName=\"Top VarSity\"\n",
    "print(_ChannelName)\n",
    "#3. A variable name can only contain alpha-numeric characters and underscores (A-z, 0-9, and _ )\n",
    "Channel_Name=\"Top VarSity\"\n",
    "print(Channel_Name)\n",
    "\n",
    "ChannelName50k=\"Top VarSity\"\n",
    "print(ChannelName50k)\n",
    "\n",
    "#4. Variable names are case-sensitive \n",
    "ChannelName=\"Top\"\n",
    "print(ChannelName)  \n",
    "\n",
    "channelname=\"VarSity\"\n",
    "print(channelname)"
   ]
  },
  {
   "cell_type": "markdown",
   "id": "9b11793c-4a33-43c1-99a9-45232f5e347c",
   "metadata": {},
   "source": [
    "# Illegal variable names:"
   ]
  },
  {
   "cell_type": "code",
   "execution_count": null,
   "id": "cfe6fcb3-f7ce-481c-a2b7-4126bce39ac1",
   "metadata": {},
   "outputs": [],
   "source": [
    "# 5.A variable name cannot start with a number\n",
    "50kChannelName=\"Top VarSity\"\n",
    "print(50kChannelName)"
   ]
  },
  {
   "cell_type": "code",
   "execution_count": null,
   "id": "d09bad59-b7b7-4177-8120-74f1014c31bc",
   "metadata": {},
   "outputs": [],
   "source": [
    "Channel-Name=\"Top VarSity\" \n",
    "print(Channel-Name)"
   ]
  },
  {
   "cell_type": "code",
   "execution_count": null,
   "id": "22631c0f-2ff8-4c78-9bb7-8a58cd766bf6",
   "metadata": {},
   "outputs": [],
   "source": [
    "Channel Name=\"Top VarSity\"\n",
    "print(Channel Name)"
   ]
  },
  {
   "cell_type": "code",
   "execution_count": null,
   "id": "16b9a4bc-58ce-47b7-8182-61a95ce4146c",
   "metadata": {},
   "outputs": [],
   "source": [
    "#6 A variable name cannot be any of the Python keywords.\n",
    "\n",
    "print, class, in,or ,and,True, False ..."
   ]
  },
  {
   "cell_type": "markdown",
   "id": "247a0a6a-6436-4875-9358-0309dff356a4",
   "metadata": {},
   "source": [
    "# Data Types in Python\n",
    "\n",
    "![](https://i.imgur.com/6cg2E9Q.png)\n"
   ]
  },
  {
   "attachments": {},
   "cell_type": "raw",
   "id": "dc292300-7963-4d14-bca4-d7510eade9e5",
   "metadata": {},
   "source": [
    "## Data Types\n",
    "Data Types are used to define the type of a variable. It defines what type of data we are going to store in a variable.\n",
    "\n",
    "Text Type:\tstr\r\n",
    "Numeric Types:\tint, float, complex\r\n",
    "Sequence Types:\tlist, tuple, range\r\n",
    "Mapping Type:\tdict\r\n",
    "Set Types:\tset, frozenset\r\n",
    "Boolean Type:\tbool\r\n",
    "Binary Types:\tbytes, bytearray, memoryview\r\n",
    "None Type:\tNooneType"
   ]
  },
  {
   "cell_type": "code",
   "execution_count": null,
   "id": "00860782-fce6-4d82-8483-9c7d56814c3f",
   "metadata": {},
   "outputs": [],
   "source": [
    "x = 5\n",
    "print(type(x)) "
   ]
  },
  {
   "cell_type": "code",
   "execution_count": 20,
   "id": "6f248a5d-9639-42e7-b975-81a2d78bac01",
   "metadata": {},
   "outputs": [
    {
     "name": "stdout",
     "output_type": "stream",
     "text": [
      "['welcome', 'To ', 'Top', 'Varsity']\n",
      "('welcome', 'To ', 'Top', 'Varsity')\n",
      "{'Varsity', 'welcome', 'To ', 'Top'}\n"
     ]
    }
   ],
   "source": [
    "\"\"\"\n",
    "DataType Output: str \n",
    "{A string is used to represent text (a string of characters) in Python. \n",
    "Strings must be surrounded using quotations (either the single quote ' or the double quote \").}\n",
    "\"\"\"\n",
    "a = \"Top VarSity\"\n",
    " \n",
    "# DataType Output: int {Integers represent positive or negative whole numbers, from negative infinity to infinity. }\n",
    "b = 50\n",
    " \n",
    "# DataType Output: float {The float type is used for decimal numbers}\n",
    "c = 60.5\n",
    " \n",
    "# DataType Output: complex {holds complex numbers.}\n",
    "d = 3j\n",
    " \n",
    "# DataType Output: list\n",
    "\"\"\"\n",
    "{Lists are used to store multiple items in a single variable.\n",
    "List items are ordered, changeable, and allow duplicate values.\n",
    "}\n",
    "\"\"\"\n",
    "e = [\"welcome\",\"To \",\"Top\", \"Varsity\",] #created using square brackets\n",
    "print(e)\n",
    "# DataType Output: tuple\n",
    "\"\"\"\n",
    "{Tuples are used to store multiple items in a single variable.\n",
    "A tuple is a collection which is ordered and unchangeable.\n",
    "}\n",
    "\"\"\"\n",
    "f = (\"welcome\",\"To \",\"Top\", \"Varsity\") #created using round brackets.\n",
    "print(f)\n",
    "# DataType Output: range\n",
    "g = range(10) \n",
    " \n",
    "# DataType Output: Dictionaries  {Dictionaries are used to store data values in key:value pairs.}\n",
    "h = {\"name\": \"Top VarSity\", \"Channel\": 1}\n",
    " \n",
    "# DataType Output: set\n",
    "\"\"\"\n",
    "{Sets are used to store multiple items in a single variable.\n",
    "A set is a collection which is unordered, unchangeable*, and unindexed.\n",
    "}\n",
    "\"\"\"\n",
    "i = {\"welcome\",\"To \",\"Top\", \"Varsity\"} #created using curly brackets\n",
    "print(i)\n",
    "# DataType Output: bool\n",
    "#The bool() function allows you to evaluate any value, and give you True or False in return,\n",
    "k = True\n",
    " \n",
    "# DataType Output: NoneType {The None type includes a single value None, used to indicate the absence of a value. None has the type NoneType}\n",
    "o = None"
   ]
  },
  {
   "cell_type": "markdown",
   "id": "a94eda93-4fab-469e-9079-c01601d2724c",
   "metadata": {},
   "source": [
    "# Branching using Conditional Statements and Loops in Python\r\n",
    "\r\n",
    "![](https://i.imgur.com/7RfcHV0.png)"
   ]
  },
  {
   "cell_type": "markdown",
   "id": "cdba1be7-701c-4438-b14c-406846b3f25b",
   "metadata": {},
   "source": [
    "## If-else statement \n",
    "if-else statement is used to make a decision: it checks a condition and executes \n",
    "one block of code if the condition is true, \n",
    "and another block of code if the condition is false.\n"
   ]
  },
  {
   "cell_type": "raw",
   "id": "e0438165-29c6-4256-938d-2a17c92910c2",
   "metadata": {},
   "source": [
    "Syntax\n",
    "if condition:\n",
    "    # code to execute if condition is true\n",
    "else:\n",
    "    # code to execute if condition is false"
   ]
  },
  {
   "cell_type": "code",
   "execution_count": null,
   "id": "0259aef3-f45c-45d3-8289-faafe4247609",
   "metadata": {},
   "outputs": [],
   "source": [
    "age = 20\n",
    "if age >= 18:\n",
    "    print(\"You are an adult.\")\n",
    "else:\n",
    "    print(\"You are not an adult.\")\n"
   ]
  },
  {
   "cell_type": "raw",
   "id": "590b8d62-7f01-4147-b5b1-d51633788761",
   "metadata": {},
   "source": [
    "Syntax\n",
    "\n",
    "if condition1:\n",
    "     code to execute if condition1 is true\n",
    "elif condition2:\n",
    "    code to execute if condition1 is false and condition2 is true\n",
    "elif condition3:\n",
    "    code to execute if condition1 and condition2 are false, and condition3 is true\n",
    "else:\n",
    "    code to execute if all conditions are false\n"
   ]
  },
  {
   "cell_type": "code",
   "execution_count": null,
   "id": "ec0faee5-a7a4-465f-bbc8-dfef1948f0d1",
   "metadata": {},
   "outputs": [],
   "source": [
    "score = 45\n",
    "\n",
    "if score >= 90:\n",
    "    grade = 'A'\n",
    "elif score >= 80:\n",
    "    grade = 'B'\n",
    "elif score >= 70:\n",
    "    grade = 'C'\n",
    "else:\n",
    "    grade = 'D'\n",
    "\n",
    "print(\"Your grade is:\", grade)\n"
   ]
  },
  {
   "cell_type": "markdown",
   "id": "057baed2-fd90-4491-a419-94b160f745db",
   "metadata": {},
   "source": [
    "## while Loop\n",
    "A while loop repeats a block of code an unknown number of times until a condition is no longer met."
   ]
  },
  {
   "cell_type": "raw",
   "id": "4c20c2b8-f80e-4583-93a2-ef186960afbe",
   "metadata": {},
   "source": [
    "Syntax\n",
    "while condition:\n",
    "    # body of while loop"
   ]
  },
  {
   "cell_type": "code",
   "execution_count": 3,
   "id": "4c0e034e-83ba-41ec-b10d-f474acc81199",
   "metadata": {},
   "outputs": [
    {
     "name": "stdout",
     "output_type": "stream",
     "text": [
      "Count is 0\n",
      "Count is 1\n",
      "Count is 2\n",
      "Count is 3\n",
      "Count is 4\n"
     ]
    }
   ],
   "source": [
    "count = 0\n",
    "while count < 5:\n",
    "    print(\"Count is\", count)\n",
    "    count += 1 #count=count+1"
   ]
  },
  {
   "cell_type": "code",
   "execution_count": 5,
   "id": "7d0f6ef7-2c03-4e45-9b48-b88e9473e041",
   "metadata": {},
   "outputs": [
    {
     "name": "stdout",
     "output_type": "stream",
     "text": [
      "1\n",
      "2\n",
      "3\n",
      "4\n"
     ]
    }
   ],
   "source": [
    "# program to display numbers from 1 to 5\n",
    "\n",
    "# initialize the variable\n",
    "i = 1\n",
    "n = 5\n",
    "\n",
    "# while loop from i = 1 to 5\n",
    "while i < n: # 1<=5\n",
    "    print(i)\n",
    "    i = i + 1 #i+=i"
   ]
  },
  {
   "cell_type": "markdown",
   "id": "c7ee0f65-c26e-4605-8cd5-ecfb3b854ee4",
   "metadata": {},
   "source": [
    "## For Loop\n",
    " for loop is used to iterate over a sequence (such as a list, tuple, or string) and execute a block of code for each item in the sequence, making it easier to perform repetitive tasks."
   ]
  },
  {
   "cell_type": "raw",
   "id": "9a8a604b-f2e9-4df7-8c6c-32bc4ebd6ce9",
   "metadata": {},
   "source": [
    "Syntax:\n",
    "\n",
    "for variable in sequence:\n",
    "    # Code to be executed for each item in the sequence"
   ]
  },
  {
   "cell_type": "code",
   "execution_count": 6,
   "id": "e0009595-38b2-41c2-837c-38e045ca416e",
   "metadata": {},
   "outputs": [
    {
     "name": "stdout",
     "output_type": "stream",
     "text": [
      "apple\n",
      "banana\n",
      "cherry\n"
     ]
    }
   ],
   "source": [
    "fruits = [\"apple\", \"banana\", \"cherry\"]\n",
    "for x in fruits:\n",
    "    print(x)"
   ]
  },
  {
   "cell_type": "code",
   "execution_count": 7,
   "id": "7ad17c09-aab3-44f8-b474-d441a6b41f0d",
   "metadata": {},
   "outputs": [
    {
     "name": "stdout",
     "output_type": "stream",
     "text": [
      "0\n",
      "1\n",
      "2\n",
      "3\n"
     ]
    }
   ],
   "source": [
    "n = 4\n",
    "for i in range(0, n):\n",
    "    print(i)"
   ]
  },
  {
   "cell_type": "code",
   "execution_count": null,
   "id": "92a0302f-ba55-4b8b-baff-10691974859c",
   "metadata": {},
   "outputs": [],
   "source": []
  }
 ],
 "metadata": {
  "kernelspec": {
   "display_name": "Python 3 (ipykernel)",
   "language": "python",
   "name": "python3"
  },
  "language_info": {
   "codemirror_mode": {
    "name": "ipython",
    "version": 3
   },
   "file_extension": ".py",
   "mimetype": "text/x-python",
   "name": "python",
   "nbconvert_exporter": "python",
   "pygments_lexer": "ipython3",
   "version": "3.12.0"
  }
 },
 "nbformat": 4,
 "nbformat_minor": 5
}
